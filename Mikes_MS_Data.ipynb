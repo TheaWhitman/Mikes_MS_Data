{
 "cells": [
  {
   "cell_type": "code",
   "execution_count": null,
   "metadata": {
    "collapsed": false
   },
   "outputs": [],
   "source": [
    "!ls"
   ]
  },
  {
   "cell_type": "code",
   "execution_count": 2,
   "metadata": {
    "collapsed": false
   },
   "outputs": [
    {
     "name": "stdout",
     "output_type": "stream",
     "text": [
      "@HWI-M01987:96:000000000-AAYUM:1:1101:16148:1337 1:N:0:ATTACTCGTATAGCCT\r\n",
      "CCTACGGGCGGCAGCAGTTAGGAATCTTCCCCAATGGGCGAAAGCCTGAGGGAGCGATACCGCTTGAGGGACGAAGCATTTCGGTGTGTAAACCTCTGAAACTGGGACGATAATGACGGTACCAGTGTAATAGCACCGGCTAACTCCGTGCCAGCAGCCGCGGTAATACGGAGGGTGCGAGCGTTACCCGGATTTACTGGGTGTAAAGGGCGCGTAGGCGGTTATTCAAGTCCGATGCTAAAGACCGAAGC\r\n",
      "+\r\n",
      ">>AAB?>3>ADBGGEGGGGGFGHFHHHHGHHHHGHGHHHGGGGGGHHHHHGGGFGGGHGGHGGGGGHHHGGGGGGGGHHHHHHGGGGGHHHHHHHHHHHHHHHHHHHHGGGGGHHFHGGGHGHHHHHHHHHHHHHHHGGGGGHHHHHGGGGGGGGGGGGGGGGFFFFFFFFFFFFFFFFFFFFFFFFFFFFBFFFFFFFFFFFFFFFFFFFFFFFFFFFFFFFFFFFFFFFFFFDFFFFFFFBFFFFFFFA\r\n",
      "@HWI-M01987:96:000000000-AAYUM:1:1101:16130:1345 1:N:0:ATTACTCGTATAGCCT\r\n",
      "CCTACGGGCGGCAGCAGTTAGGAATCTTCCCCAATGGGCGAAAGCCTGAGGGAGCGATACCGCTTGAGGGACGAAGCATTTCGGTGTGTAAACCTCTGAAACTGGGACGATAATGACGGTACCAGTGTAATAGCACCGGCTAACTCCGTGCCAGCAGCCGCGGTAATACGGAGGGTGCGAGCGTTACCCGGATTTACTGGGTGTAAAGGGCGCGTAGGCGGTTATTCAAGTCCGATGCTAAAGACCGAAGC\r\n",
      "+\r\n",
      ">>AAAB33>>ADFGGFGGGGGGHHHHHHHHHHGGHHGCHGGGGGGHHHHHGGCEGGGHGGHGGGGGHHHGFGGGGGGBHHHHHGGGGGHGGGHHHHFHHHHHHHHHGHGGGGGBHFHGGEHGHHHGHHHHHHGGHGHGGGGGHHFHHGGFGGGGGGGGGGGGGFFFFFFFFFF;CFFFFFFFFFFFFFFFF-ADFFFFFFFFFFFFFFF.ABFFFABDFFA>DDFFFBFFFFFDFF.A9FFFBFFFCFB@#\r\n",
      "@HWI-M01987:96:000000000-AAYUM:1:1101:15539:1358 1:N:0:ATTACTCGTATAGCCT\r\n",
      "CCTACGGGAGGCAGCAGTTAGGAATCTTCCCCAATGGGCGAAAGCCTGAGGGAGCGACGCCGCTTGAAGGACGAAGGTCTTCGGATCGTAAACTTCTGAAACAAGGACGAAATCCCTGCAAAGGGTCTGACGGTACTTGTGTAATAGCACCGGCTAACTCCGTGCCAGCAGCCGCGGTAATACGGAGGGCGCAAGCGTTACCCGGAATCACTGGGCGTAAAGGGCGTGTAGGCGGCTTGGTAAGTCTGGAT\r\n"
     ]
    }
   ],
   "source": [
    "!head run747.G300_ATTACTCG-TATAGCCT_L001_R1.fastq\n",
    "# Checking out the fwd read "
   ]
  },
  {
   "cell_type": "code",
   "execution_count": 3,
   "metadata": {
    "collapsed": false
   },
   "outputs": [
    {
     "name": "stdout",
     "output_type": "stream",
     "text": [
      "@HWI-M01987:96:000000000-AAYUM:1:1101:16148:1337 2:N:0:ATTACTCGTATAGCCT\r\n",
      "GACTACCCGGGTATCTAATCCGGTTTGCTCCCCACGCTTTCGCGCCTCAGCGTCACTTATCGTCCAGGTAGCTGCTTTCGCTATTGGCGTTCCGATCAGTATCTGCGCATTTCACCGCTACTCTGACCATTCCGCTACCCTCTCCGATCGTCTAGCCATCCAGTATCCAACGCACTCCCGAAGTTGAGCTTCGGTCTTTAGCATCGGACTTGAATAACCGCCTACGCGCCCTTTACACCCAGTAAATCCAC\r\n",
      "+\r\n",
      "3>AAACFFBDBB?GGGGFGFGFGGGFEFHBGFGHGGFEFFHGFECGGGFGHGGGDFHHHHHFGEAEGHFFHGHHHHGHHGDGEGHHHEEGEGHDEEEABGHHHHGGFFGGGHGG2GGFGGGHHHHHGHFHHFFHCGGGGGFGHHGGGGCDHHHHGFHHHHHBCCGHHHHHF?FGGGFGGDGD?EFB0/FFFGDFFDDFFB/9BFFD.ABFFBBFF9FBBDA9;A.D-;-@=DFF9///9:EAF########\r\n",
      "@HWI-M01987:96:000000000-AAYUM:1:1101:16130:1345 2:N:0:ATTACTCGTATAGCCT\r\n",
      "GACTACCCGGGTATCTAATCCGGTTTGCTCCCCACGCTTTCGCGCCTCAGCGTCACTTATCGTCCAGGTAGCTGCTTTCGCTATTGGCGTTCCGATCAGTATCTGCGCATTTCACCGCTACTCTGACCATTCCGCTACCCTCTCCGATCGTCTAGCCATCCAGTATCCAACGCACTCCCGAAGTTGAGCTTCGGTCTTTAGCATCGGACTTGAATAACCGCCTACGCGCCCTTTACACCCAGTAAATCCTT\r\n",
      "+\r\n",
      "3>>>AC>>A2D?EGGGGEGGGFCEGG2FGFGGGHFEEEFGHGFE?EFGHHHGEGDGHHHGHHGHG1FHBGHFGHFFGHHG?FE?GFFBEEEFBAE/EDHHHGFGBFDGGECGGEFHCCGCCFFHHHHGFFGF?CDDDGHHGHHGCGGGGCHHHHHGGHHHGHGHHH::;GHG?BGBFFA9C9AEBBB/0FFB-DE?DFFFFFFFFD..--9;FFFFFBBB;BD99A-;=B?99FBFF/B9EAB########\r\n",
      "@HWI-M01987:96:000000000-AAYUM:1:1101:15539:1358 2:N:0:ATTACTCGTATAGCCT\r\n",
      "GACTACCGGGGTATCTAATCCGGTTCGCTCCCCACACTTTCGCGCCTCAGCGTCACGCACTGTCCAGAGAGCCGCCTTCGCCACTGGTGTTCCTCTCGGTATCTACGCATTCCACCGCTACACCGAGAATTCCACTCTCCCCTCCAGTCGTCAAGCAAGGCAGTATCCAGACCATTCCCGAAGTTGAGCTTCGGTCTTTAAATCCAGACTTACCAAGCCGCCTACACGCCCTTTACGCCCAGTGATTCCAC\r\n"
     ]
    }
   ],
   "source": [
    "!head run747.G300_ATTACTCG-TATAGCCT_L001_R2.fastq\n",
    "# And the reverse read"
   ]
  },
  {
   "cell_type": "code",
   "execution_count": 5,
   "metadata": {
    "collapsed": false
   },
   "outputs": [
    {
     "name": "stdout",
     "output_type": "stream",
     "text": [
      "  514778\r\n"
     ]
    }
   ],
   "source": [
    "!grep @ run747.G300_ATTACTCG-TATAGCCT_L001_R1.fastq | wc -l"
   ]
  },
  {
   "cell_type": "code",
   "execution_count": 6,
   "metadata": {
    "collapsed": false
   },
   "outputs": [
    {
     "name": "stdout",
     "output_type": "stream",
     "text": [
      "  584540\r\n"
     ]
    }
   ],
   "source": [
    "!grep @ run747.G300_ATTACTCG-TATAGCCT_L001_R2.fastq | wc -l"
   ]
  },
  {
   "cell_type": "code",
   "execution_count": 7,
   "metadata": {
    "collapsed": false
   },
   "outputs": [
    {
     "name": "stdout",
     "output_type": "stream",
     "text": [
      " ____  _____    _    ____ \n",
      "|  _ \\| ____|  / \\  |  _ \\\n",
      "| |_) |  _|   / _ \\ | |_) |\n",
      "|  __/| |___ / ___ \\|  _ <\n",
      "|_|   |_____/_/   \\_\\_| \\_\\\n",
      "\n",
      "PEAR v0.9.6 [January 15, 2015]\n",
      "\n",
      "Citation - PEAR: a fast and accurate Illumina Paired-End reAd mergeR\n",
      "Zhang et al (2014) Bioinformatics 30(5): 614-620 | doi:10.1093/bioinformatics/btt593\n",
      "\n",
      "Forward reads file.................: run747.G300_ATTACTCG-TATAGCCT_L001_R1.fastq\n",
      "Reverse reads file.................: run747.G300_ATTACTCG-TATAGCCT_L001_R2.fastq\n",
      "PHRED..............................: 33\n",
      "Using empirical frequencies........: YES\n",
      "Statistical method.................: OES\n",
      "Maximum assembly length............: 600\n",
      "Minimum assembly length............: 50\n",
      "p-value............................: 0.010000\n",
      "Quality score threshold (trimming).: 0\n",
      "Minimum read size after trimming...: 1\n",
      "Maximal ratio of uncalled bases....: 1.000000\n",
      "Minimum overlap....................: 10\n",
      "Scoring method.....................: Scaled score\n",
      "Threads............................: 20\n",
      "\n",
      "Allocating memory..................: 200,000,000 bytes\n",
      "Computing empirical frequencies....: DONE\n",
      "  A: 0.242105\n",
      "  C: 0.262626\n",
      "  G: 0.249129\n",
      "  T: 0.246139\n",
      "  1 uncalled bases\n",
      "Assemblying reads: 100%\n",
      "\n",
      "Assembled reads ...................: 271,903 / 323,763 (83.982%)\n",
      "Discarded reads ...................: 0 / 323,763 (0.000%)\n",
      "Not assembled reads ...............: 51,860 / 323,763 (16.018%)\n",
      "Assembled reads file...............: pear_merged-2016-05-11.assembled.fastq\n",
      "Discarded reads file...............: pear_merged-2016-05-11.discarded.fastq\n",
      "Unassembled forward reads file.....: pear_merged-2016-05-11.unassembled.forward.fastq\n",
      "Unassembled reverse reads file.....: pear_merged-2016-05-11.unassembled.reverse.fastq\n"
     ]
    }
   ],
   "source": [
    "!pear -m 600 -j 20 \\\n",
    "# Running pear with max length 600bp (2x300=600), and 20 threads (possibly not relevant)\n",
    "-f run747.G300_ATTACTCG-TATAGCCT_L001_R1.fastq \\\n",
    "# Forward read\n",
    "-r run747.G300_ATTACTCG-TATAGCCT_L001_R2.fastq \\\n",
    "# Reverse read\n",
    "-o pear_merged-$(date +%F)\n",
    "# Output will be \"pear_merged-[whatever the date is and the filename]\""
   ]
  },
  {
   "cell_type": "code",
   "execution_count": 8,
   "metadata": {
    "collapsed": false
   },
   "outputs": [
    {
     "name": "stdout",
     "output_type": "stream",
     "text": [
      "Mikes_MS_Data.ipynb\r\n",
      "\u001b[31mREADME.txt\u001b[m\u001b[m\r\n",
      "\u001b[34mclado_16S\u001b[m\u001b[m\r\n",
      "pear_merged-2016-05-11.assembled.fastq\r\n",
      "pear_merged-2016-05-11.discarded.fastq\r\n",
      "pear_merged-2016-05-11.unassembled.forward.fastq\r\n",
      "pear_merged-2016-05-11.unassembled.reverse.fastq\r\n",
      "\u001b[31mrun747.G300_ATTACTCG-TATAGCCT_L001_R1.fastq\u001b[m\u001b[m\r\n",
      "\u001b[31mrun747.G300_ATTACTCG-TATAGCCT_L001_R2.fastq\u001b[m\u001b[m\r\n",
      "\u001b[31mrun747.G301_ATTACTCG-ATAGAGGC_L001_R1.fastq\u001b[m\u001b[m\r\n",
      "\u001b[31mrun747.G301_ATTACTCG-ATAGAGGC_L001_R2.fastq\u001b[m\u001b[m\r\n",
      "\u001b[31mrun747.G302_ATTACTCG-CCTATCCT_L001_R1.fastq\u001b[m\u001b[m\r\n",
      "\u001b[31mrun747.G302_ATTACTCG-CCTATCCT_L001_R2.fastq\u001b[m\u001b[m\r\n"
     ]
    }
   ],
   "source": [
    "!ls"
   ]
  },
  {
   "cell_type": "code",
   "execution_count": 9,
   "metadata": {
    "collapsed": false
   },
   "outputs": [
    {
     "name": "stdout",
     "output_type": "stream",
     "text": [
      "@HWI-M01987:96:000000000-AAYUM:1:1101:16148:1337 1:N:0:ATTACTCGTATAGCCT\r\n",
      "CCTACGGGCGGCAGCAGTTAGGAATCTTCCCCAATGGGCGAAAGCCTGAGGGAGCGATACCGCTTGAGGGACGAAGCATTTCGGTGTGTAAACCTCTGAAACTGGGACGATAATGACGGTACCAGTGTAATAGCACCGGCTAACTCCGTGCCAGCAGCCGCGGTAATACGGAGGGTGCGAGCGTTACCCGGATTTACTGGGTGTAAAGGGCGCGTAGGCGGTTATTCAAGTCCGATGCTAAAGACCGAAGCTCAACTTCGGGAGTGCGTTGGATACTGGATGGCTAGACGATCGGAGAGGGTAGCGGAATGGTCAGAGTAGCGGTGAAATGCGCAGATACTGATCGGAACGCCAATAGCGAAAGCAGCTACCTGGACGATAAGTGACGCTGAGGCGCGAAAGCGTGGGGAGCAAACCGGATTAGATACCCGGGTAGTC\r\n",
      "+\r\n",
      ">>AAB?>3>ADBGGEGGGGGFGHFHHHHGHHHHGHGHHHGGGGGGHHHHHGGGFGGGHGGHGGGGGHHHGGGGGGGGHHHHHHGGGGGHHHHHHHHHHHHHHHHHHHHGGGGGHHFHGGGHGHHHHHHHHHHHHHHHGGGGGHHHHHGGGGGGGGGGGGGGGGFFFFFFFFFFFFFFFFFFFFFFFFFFHHDHHHIIIIIIIIIIIIIIIIIIIIIIIIIIIIIIIIIIIIIIIIIIIIIIIIIIIIIIII0BFE?DGDGGFGGGF?FHHHHHGCCBHHHHHFGHHHHDCGGGGHHGFGGGGGCHFFHHFHGHHHHHGGGFGG2GGHGGGFFGGHHHHGBAEEEDHGEGEEHHHGEGDGHHGHHHHGHFFHGEAEGFHHHHHFDGGGHGFGGGCEFGHFFEFGGHGFGBHFEFGGGFGFGFGGGG?BBDBFFCAAA>3\r\n",
      "@HWI-M01987:96:000000000-AAYUM:1:1101:16130:1345 1:N:0:ATTACTCGTATAGCCT\r\n",
      "CCTACGGGCGGCAGCAGTTAGGAATCTTCCCCAATGGGCGAAAGCCTGAGGGAGCGATACCGCTTGAGGGACGAAGCATTTCGGTGTGTAAACCTCTGAAACTGGGACGATAATGACGGTACCAGTGTAATAGCACCGGCTAACTCCGTGCCAGCAGCCGCGGTAATACGGAGGGTGCGAGCGTTACCCGGATTTACTGGGTGTAAAGGGCGCGTAGGCGGTTATTCAAGTCCGATGCTAAAGACCGAAGCTCAACTTCGGGAGTGCGTTGGATACTGGATGGCTAGACGATCGGAGAGGGTAGCGGAATGGTCAGAGTAGCGGTGAAATGCGCAGATACTGATCGGAACGCCAATAGCGAAAGCAGCTACCTGGACGATAAGTGACGCTGAGGCGCGAAAGCGTGGGGAGCAAACCGGATTAGATACCCGGGTAGTC\r\n",
      "+\r\n",
      ">>AAAB33>>ADFGGFGGGGGGHHHHHHHHHHGGHHGCHGGGGGGHHHHHGGCEGGGHGGHGGGGGHHHGFGGGGGGBHHHHHGGGGGHGGGHHHHFHHHHHHHHHGHGGGGGBHFHGGEHGHHHGHHHHHHGGHGHGGGGGHHFHHGGFGGGGGGGGGGGGGFFFFFFFFFF;CFFFFFFFFFFFFFFHH/CFHIIIIIIIIIIIIIIIIIIIIIIIIIIIIIIIIIIIIIIIIIIIIIIIIIIIIIII1BBBEA9C9AFFBGB?GHG;::HHHGHGHHHGGHHHHHCGGGGCGHHGHHGDDDC?FGFFGHHHHFFCCGCCHFEGGCEGGDFBGFGHHHDE/EABFEEEBFFG?EF?GHHGFFHGFHGBHF1GHGHHGHHHGDGEGHHHGFE?EFGHGFEEEFHGGGFGF2GGECFGGGEGGGGE?D2A>>CA>>>3\r\n",
      "@HWI-M01987:96:000000000-AAYUM:1:1101:15539:1358 1:N:0:ATTACTCGTATAGCCT\r\n",
      "CCTACGGGAGGCAGCAGTTAGGAATCTTCCCCAATGGGCGAAAGCCTGAGGGAGCGACGCCGCTTGAAGGACGAAGGTCTTCGGATCGTAAACTTCTGAAACAAGGACGAAATCCCTGCAAAGGGTCTGACGGTACTTGTGTAATAGCACCGGCTAACTCCGTGCCAGCAGCCGCGGTAATACGGAGGGCGCAAGCGTTACCCGGAATCACTGGGCGTAAAGGGCGTGTAGGCGGCTTGGTAAGTCTGGATTTAAAGACCGAAGCTCAACTTCGGGAATGGTCTGGATACTGCCTTGCTTGACGACTGGAGGGGAGAGTGGAATTCTCGGTGTAGCGGTGGAATGCGTAGATACCGAGAGGAACACCAGTGGCGAAGGCGGCTCTCTGGACAGTGCGTGACGCTGAGGCGCGAAAGTGTGGGGAGCGAACCGGATTAGATACCCCGGTAGTC\r\n"
     ]
    }
   ],
   "source": [
    "!head pear_merged-2016-05-11.assembled.fastq"
   ]
  },
  {
   "cell_type": "code",
   "execution_count": 11,
   "metadata": {
    "collapsed": false
   },
   "outputs": [
    {
     "name": "stdout",
     "output_type": "stream",
     "text": [
      "/bin/sh: -c: line 0: syntax error near unexpected token `('\r\n",
      "/bin/sh: -c: line 0: ` pear help()'\r\n"
     ]
    }
   ],
   "source": [
    "! pear help()"
   ]
  },
  {
   "cell_type": "code",
   "execution_count": null,
   "metadata": {
    "collapsed": true
   },
   "outputs": [],
   "source": [
    "! pear"
   ]
  },
  {
   "cell_type": "code",
   "execution_count": 14,
   "metadata": {
    "collapsed": false
   },
   "outputs": [
    {
     "name": "stdout",
     "output_type": "stream",
     "text": [
      " ____  _____    _    ____ \n",
      "|  _ \\| ____|  / \\  |  _ \\\n",
      "| |_) |  _|   / _ \\ | |_) |\n",
      "|  __/| |___ / ___ \\|  _ <\n",
      "|_|   |_____/_/   \\_\\_| \\_\\\n",
      "\n",
      "PEAR v0.9.6 [January 15, 2015]\n",
      "\n",
      "Citation - PEAR: a fast and accurate Illumina Paired-End reAd mergeR\n",
      "Zhang et al (2014) Bioinformatics 30(5): 614-620 | doi:10.1093/bioinformatics/btt593\n",
      "\n",
      "Forward reads file.................: run747.G301_ATTACTCG-ATAGAGGC_L001_R1.fastq\n",
      "Reverse reads file.................: run747.G301_ATTACTCG-ATAGAGGC_L001_R2.fastq\n",
      "PHRED..............................: 33\n",
      "Using empirical frequencies........: YES\n",
      "Statistical method.................: OES\n",
      "Maximum assembly length............: 600\n",
      "Minimum assembly length............: 50\n",
      "p-value............................: 0.010000\n",
      "Quality score threshold (trimming).: 0\n",
      "Minimum read size after trimming...: 1\n",
      "Maximal ratio of uncalled bases....: 1.000000\n",
      "Minimum overlap....................: 10\n",
      "Scoring method.....................: Scaled score\n",
      "Threads............................: 20\n",
      "\n",
      "Allocating memory..................: 200,000,000 bytes\n",
      "Computing empirical frequencies....: DONE\n",
      "  A: 0.241518\n",
      "  C: 0.263552\n",
      "  G: 0.251018\n",
      "  T: 0.243911\n",
      "  1 uncalled bases\n",
      "Assemblying reads: 100%\n",
      "\n",
      "Assembled reads ...................: 180,064 / 226,990 (79.327%)\n",
      "Discarded reads ...................: 0 / 226,990 (0.000%)\n",
      "Not assembled reads ...............: 46,926 / 226,990 (20.673%)\n",
      "Assembled reads file...............: pear_merged-2016-05-11-G301.assembled.fastq\n",
      "Discarded reads file...............: pear_merged-2016-05-11-G301.discarded.fastq\n",
      "Unassembled forward reads file.....: pear_merged-2016-05-11-G301.unassembled.forward.fastq\n",
      "Unassembled reverse reads file.....: pear_merged-2016-05-11-G301.unassembled.reverse.fastq\n"
     ]
    }
   ],
   "source": [
    "!pear -m 600 -j 20 \\\n",
    "-f run747.G301_ATTACTCG-ATAGAGGC_L001_R1.fastq \\\n",
    "-r run747.G301_ATTACTCG-ATAGAGGC_L001_R2.fastq \\\n",
    "-o pear_merged-$(date +%F)-G301"
   ]
  },
  {
   "cell_type": "code",
   "execution_count": 15,
   "metadata": {
    "collapsed": false
   },
   "outputs": [
    {
     "name": "stdout",
     "output_type": "stream",
     "text": [
      "@HWI-M01987:96:000000000-AAYUM:1:1101:15181:1371 1:N:0:ATTACTCGATAGAGGC\r\n",
      "CCTACGGGAGGCAGCAGTGGGGAATCTTAGACAATGGGGGAAACCCTGATCTAGCCATGCCGCGTGATCGATGAAGGCCTTAGGGTTGTAAAGATCTTTCAGATGGGAAGATAATGACGGTACCATCAGAAGAAGCCCCGGCTAACTCCGTGCCAGCAGCCGCGGTAATACGGAGGGGGCTAGCGTTATTCGGAATTACTGGGCGTAAAGCGCACGTAGGCGGATTGGAAAGTTGGAGGTGAAATCCCAGGGCTCAACCTTGGAACTGCCTTCAAAACTCCCAGTCTTGAGTTCGAGAGAGGCGAGTGGAATTCCGAGTGTAGAGGTGAAATTCGTAGATATTCGGAGGAACACCAGTGGCGAAGGCGGCTCACTGGCTCGATACTGACGCTGAGGTGCGAAAGCGTGGGGAGCAAACAGGATTAGATACCCTAGTAGTC\r\n",
      "+\r\n",
      "AAAAABAA>>DBGGGGGFGGGGGGHGHHHHHGHHHHGHGGGGHHHGHHHHHHHHHHHHHGHGGGGGGHHGGHHHHHHHHHHHHHGHHGGHGHHHHHHHHHHHHHHHGHHFHHHHHHHHGGGHGHHHHHHHHHHHGHHHGGGGGGHHHHHGHGGHHHGHHHHGGGGGGGGGGGGEGGGGGFFFFFFFFFFHHHHIIIFIIIIIIIIIIIIIIIIIIIIIIIIIIIIIIIIIIIIIIIIIIIIIIIIIIIIIIFC//GC;0GFFHGHEGC/BHCCHHGDEFEFHHGBHFHFHHFGGFHHHGEGGGHHHFG@GGFDGGHGHGEHHHHHGHHHHGHGGHGHGHFFGEGHHHHHGGFFCGGEEDDCGGGGGEFFHHHHGFGGGHGHHHHGGGGGHHHHHGGGGEHFGEFEEHEFGFHGHHHHHGGGGFGGFGBFBFFFFFBBAA>\r\n",
      "@HWI-M01987:96:000000000-AAYUM:1:1101:17305:1462 1:N:0:ATTACTCGATAGAGGC\r\n",
      "CCTACGGGAGGCAGCAGTGGGGAATTTTCCGCAATGGGCGAAAGCCTGACGGAGCAATACCGCGTGAGGGATGACGGCCTACGGGTTGTAAACCTCTTTTTTCAAGGAGGAAAAATTTCAAAGAGAAATCATGACGTGTACTTGAAGAATAAGCATCGGCTAACTCCGTGCCAGCAGCCGCGGTAAGACGGAGGATGCAAGTGTTATCCGGAATCACTGGGCGTAAAGCGTCTGTAGGTGGTTTCGTAAGTCAACTGTGAAATCTTGGGGCTTAACCTCAAAACTGCAGTCGAAACTACTAGACTAGAGTATAGTAGGGGTAAAGGGAATTTCCAGTGGAGCGGTGAAATGCGTAGAGATTGGAAAGAACACCGATGGCGAAGGCACTTTACTGGGCTATTACTAACACTGAGAGACGAAAGCTAGGGTAGCAAATGGGATTAGATACCCCGGTAGTC\r\n",
      "+\r\n",
      "AAAAAAA11A@1A00FG1EGE0FAAFHHBB0/EEEHH00/EEEAG0G00F////EGCG1B1>/EEEGGGA/G/F1E?EGGB0EE/EGGGHHHHEFHGHHH1C022?GHCEGHHHHHHH1<FDB0<011GGH1111.<<<<0==<0CG0G0:C000CGEGCC:CCC0FFEA.C009BA9E?9-AA?FB//-A9->ABF-9F/FBBFBB/F/BDBGDHII;IEFIIIIIIIIIIIIIGIHIIIIIIIIIIIIIC0:C;C;0GD<.<<.<.<0<0BGF<.CCGHGHGDCA/C/<GFDFG1FGF2>@BGGFGBFGHGFFF?0HGDCF1DGBGB11FBGHFGCEGGGHHHFHEEEEFHGGGF0GG2@BGFF@EE?ECGHGGE?GHHHGDBB2A2HHEGCHHHGHHHGDEHHGEFGHHHHCHGHGGGGFCHGCHDHFHHGB11GGGGFG1G0DDDD@FFAAAA>\r\n",
      "@HWI-M01987:96:000000000-AAYUM:1:1101:17286:1462 1:N:0:ATTACTCGATAGAGGC\r\n",
      "CCTACGGGAGGCAGCAGTGGGGAATTTTCCGCAATGGGCGAAAGCCTGACGGAGCAATACCGCGTGAGGGATGACGGCCTACGGGTTGTAAACCTCTTTTTTCAAGGAGGAAAAATTTCAAAGAGAAATCATGACGTGTACTTGAAGAATAAGCATCGGCTAACTCCGTGCCAGCAGCCGCGGTAAGACGGAGGATGCAAGTGTTATCCGGAATCACTGGGCGTAAAGCGTCTGTAGGTGGTTTCGTAAGTCAACTGTTAAATCTTGGGGCTTAACCTCAAAACTGCAGTCGAAACTACTAGACTAGAGTATAGTAGGGGTAAAGGGAATTTCCAGTGGAGCGGTGAAATGCGTAGAGATTGGAAAGAACACCGATGGCGAAGGCACTTTACTGGGCTATTACTAACACTGAGAGACGAAAGCTAGGGTAGCAAATGGGATTAGATACCCCGGTAGTC\r\n"
     ]
    }
   ],
   "source": [
    "!head pear_merged-2016-05-11-G301.assembled.fastq"
   ]
  },
  {
   "cell_type": "code",
   "execution_count": null,
   "metadata": {
    "collapsed": true
   },
   "outputs": [],
   "source": []
  }
 ],
 "metadata": {
  "kernelspec": {
   "display_name": "Python 2",
   "language": "python",
   "name": "python2"
  },
  "language_info": {
   "codemirror_mode": {
    "name": "ipython",
    "version": 2
   },
   "file_extension": ".py",
   "mimetype": "text/x-python",
   "name": "python",
   "nbconvert_exporter": "python",
   "pygments_lexer": "ipython2",
   "version": "2.7.11"
  }
 },
 "nbformat": 4,
 "nbformat_minor": 0
}
